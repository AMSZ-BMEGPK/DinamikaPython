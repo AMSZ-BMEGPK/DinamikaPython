{
 "cells": [
  {
   "cell_type": "markdown",
   "metadata": {},
   "source": [
    "# Oldjuk meg Python segítségével az alábbi Dinamika vizsgapéldát:\n",
    "<img src=\"alk4_vizsgapelda_feladat.png\" width=\"800\">\n"
   ]
  },
  {
   "cell_type": "markdown",
   "metadata": {},
   "source": [
    "## 1. Feladat: (1)-es és (2)-es jelű test gyorsulásállapotának meghatározása"
   ]
  },
  {
   "cell_type": "code",
   "execution_count": 1,
   "metadata": {},
   "outputs": [],
   "source": [
    "import sympy as sp\n",
    "sp.init_printing() # a szép kiíratásért\n",
    "\n",
    "# Szimbólumok felvétele. Adatok még nincsenek beírva, legyen minden szimbolikusan kiszámolva először.\n",
    "vB,vC,aB,R,ω1,ω2 = sp.symbols(\"v_B,v_C,a_B,R,ω_1,ω_2\") # \\varepsilon + tab; \\omega + tab\n",
    "R,φ = sp.symbols(\"R,φ\")\n",
    "\n",
    "# Az ábráról:\n",
    "l = 4*R\n",
    "\n",
    "# Mivel tiszta gördülés feltételezendő a (1)-es test esetén (átrendezve, hogy ω1 legyen kifejezve\n",
    "# ismert adatokkal):\n",
    "ω1 = vB/R "
   ]
  },
  {
   "cell_type": "code",
   "execution_count": 2,
   "metadata": {},
   "outputs": [
    {
     "data": {
      "text/latex": [
       "$\\displaystyle \\left[\\begin{matrix}0\\\\v_{C}\\\\0\\end{matrix}\\right] = \\left[\\begin{matrix}- 5 R ω_{2} \\sin{\\left(φ \\right)} + v_{B}\\\\5 R ω_{2} \\cos{\\left(φ \\right)}\\\\0\\end{matrix}\\right]$"
      ],
      "text/plain": [
       "⎡ 0 ⎤   ⎡-5⋅R⋅ω₂⋅sin(φ) + v_B⎤\n",
       "⎢   ⎥   ⎢                    ⎥\n",
       "⎢v_C⎥ = ⎢   5⋅R⋅ω₂⋅cos(φ)    ⎥\n",
       "⎢   ⎥   ⎢                    ⎥\n",
       "⎣ 0 ⎦   ⎣         0          ⎦"
      ]
     },
     "metadata": {},
     "output_type": "display_data"
    },
    {
     "data": {
      "image/png": "[encoded data removed]",
      "text/latex": [
       "$\\displaystyle \\left\\{ v_{C} : \\frac{v_{B}}{\\tan{\\left(φ \\right)}}, \\  ω_{2} : \\frac{v_{B}}{5 R \\sin{\\left(φ \\right)}}\\right\\}$"
      ],
      "text/plain": [
       "⎧      v_B           v_B    ⎫\n",
       "⎨v_C: ──────, ω₂: ──────────⎬\n",
       "⎩     tan(φ)      5⋅R⋅sin(φ)⎭"
      ]
     },
     "metadata": {},
     "output_type": "display_data"
    }
   ],
   "source": [
    "# A (2)-es test szögsebességének, és C pontja sebességének kiszámolása:\n",
    "\n",
    "# `_v`-vel jelölöm azokat a mennyiségeket, amik vektorok.\n",
    "vB_v = sp.Matrix([vB,0,0]) \n",
    "vC_v = sp.Matrix([0,vC,0])  # Felhasználva, hogy a fal mentén mozog a C pont.\n",
    "\n",
    "# A fentiekben (lsd. 9. sor a cellában) `ω1` absz. értékét számítottuk ki. Az ábra alapján ez vektorosan:\n",
    "ω1_v = sp.Matrix([0,0,-ω1]) \n",
    "ω2_v = sp.Matrix([0,0,ω2])\n",
    "\n",
    "# Az `rBC` vektor a `φ` szög segítségével számítható\n",
    "rBC_v = sp.Matrix([(l+R)*sp.cos(φ),(l+R)*sp.sin(φ),0])\n",
    "\n",
    "# Sebességredukciós képlet a C pont sebességének kiszámításához.\n",
    "# `sp.Eq`: egyenletet vesz fel, az argumentumban vessző választja el a bal oldali kifejezést\n",
    "# a jobb oldalitól. Szimbolikus mátrixokkal (vektorokkal) is működik (ahogy látható).\n",
    "eq1 = sp.Eq(vC_v,vB_v + ω2_v.cross(rBC_v)) \n",
    "display(eq1)\n",
    "\n",
    "sol1 = sp.solve(eq1,vC,ω2)           \n",
    "display(sol1) # A megoldást egy dictionary-ben kapjuk."
   ]
  },
  {
   "cell_type": "code",
   "execution_count": 3,
   "metadata": {},
   "outputs": [
    {
     "data": {
      "text/latex": [
       "$\\displaystyle \\left[\\begin{matrix}0\\\\a_{C}\\\\0\\end{matrix}\\right] = \\left[\\begin{matrix}- 5 R ε_{2} \\sin{\\left(φ \\right)} - 5 R ω_{2}^{2} \\cos{\\left(φ \\right)}\\\\5 R ε_{2} \\cos{\\left(φ \\right)} - 5 R ω_{2}^{2} \\sin{\\left(φ \\right)}\\\\0\\end{matrix}\\right]$"
      ],
      "text/plain": [
       "        ⎡                       2       ⎤\n",
       "⎡ 0 ⎤   ⎢-5⋅R⋅ε₂⋅sin(φ) - 5⋅R⋅ω₂ ⋅cos(φ)⎥\n",
       "⎢   ⎥   ⎢                               ⎥\n",
       "⎢a_C⎥ = ⎢                      2        ⎥\n",
       "⎢   ⎥   ⎢5⋅R⋅ε₂⋅cos(φ) - 5⋅R⋅ω₂ ⋅sin(φ) ⎥\n",
       "⎣ 0 ⎦   ⎢                               ⎥\n",
       "        ⎣               0               ⎦"
      ]
     },
     "metadata": {},
     "output_type": "display_data"
    },
    {
     "data": {
      "image/png": "[encoded data removed]",
      "text/latex": [
       "$\\displaystyle \\left\\{ a_{C} : - \\frac{v_{B}^{2}}{5 R \\sin^{3}{\\left(φ \\right)}}, \\  ε_{2} : - \\frac{v_{B}^{2} \\cos{\\left(φ \\right)}}{25 R^{2} \\sin^{3}{\\left(φ \\right)}}\\right\\}$"
      ],
      "text/plain": [
       "⎧            2             2        ⎫\n",
       "⎪        -v_B          -v_B ⋅cos(φ) ⎪\n",
       "⎨a_C: ───────────, ε₂: ─────────────⎬\n",
       "⎪            3             2    3   ⎪\n",
       "⎩     5⋅R⋅sin (φ)      25⋅R ⋅sin (φ)⎭"
      ]
     },
     "metadata": {},
     "output_type": "display_data"
    }
   ],
   "source": [
    "# Mindkét test esetében ki van fejezve a szögsebesség, és legalább 1-1 pontjuk sebessége;\n",
    "# innentől a többi pontjuké is számítható.\n",
    "# Határozzuk meg a (2)-es test C pontjának gyorsulását, és a test szöggyorsulását:\n",
    "\n",
    "ε1,ε2,aB,aC,aS2 = sp.symbols(\"ε_1,ε_2,a_B,a_C,a_S2\")\n",
    "\n",
    "aC_v = sp.Matrix([0,aC,0]) # a fal miatt\n",
    "aB_v = sp.Matrix([0,0,0])  # mivel `vB` állandó\n",
    "ε2_v = sp.Matrix([0,0,ε2])\n",
    "\n",
    "# Gyorsulásredukciós képlet:\n",
    "eq2 = sp.Eq(aC_v,aB_v + ε2_v.cross(rBC_v) - ω2**2*rBC_v)\n",
    "display(eq2)\n",
    "\n",
    "# Viszont `ω2`-t már ismerjük, így annak (ismert mennyiségekkel) kifejezett formájával dolgozzunk tovább.\n",
    "eq2_ism = eq2.subs(ω2,sol1[ω2]) # Kiszedve a `sol1` dictionaryből az `ω2`-re való megoldást.\n",
    "\n",
    "sol2 = sp.solve(eq2_ism,ε2,aC) # Innen `aC` és `ε2` is ki van fejezve ismert mennyiségekkel\n",
    "display(sol2)"
   ]
  },
  {
   "cell_type": "code",
   "execution_count": 4,
   "metadata": {},
   "outputs": [
    {
     "data": {
      "text/latex": [
       "$\\displaystyle \\left[\\begin{matrix}a_{S2x}\\\\a_{S2y}\\\\0\\end{matrix}\\right] = \\left[\\begin{matrix}- 4 R ε_{2} \\sin{\\left(φ \\right)} - 4 R ω_{2}^{2} \\cos{\\left(φ \\right)}\\\\4 R ε_{2} \\cos{\\left(φ \\right)} - 4 R ω_{2}^{2} \\sin{\\left(φ \\right)}\\\\0\\end{matrix}\\right]$"
      ],
      "text/plain": [
       "          ⎡                       2       ⎤\n",
       "⎡a_S2x⎤   ⎢-4⋅R⋅ε₂⋅sin(φ) - 4⋅R⋅ω₂ ⋅cos(φ)⎥\n",
       "⎢     ⎥   ⎢                               ⎥\n",
       "⎢a_S2y⎥ = ⎢                      2        ⎥\n",
       "⎢     ⎥   ⎢4⋅R⋅ε₂⋅cos(φ) - 4⋅R⋅ω₂ ⋅sin(φ) ⎥\n",
       "⎣  0  ⎦   ⎢                               ⎥\n",
       "          ⎣               0               ⎦"
      ]
     },
     "metadata": {},
     "output_type": "display_data"
    },
    {
     "data": {
      "image/png": "[encoded data removed]",
      "text/latex": [
       "$\\displaystyle \\left\\{ a_{S2x} : 0, \\  a_{S2y} : - \\frac{4 v_{B}^{2}}{25 R \\sin^{3}{\\left(φ \\right)}}\\right\\}$"
      ],
      "text/plain": [
       "⎧                         2   ⎫\n",
       "⎪                   -4⋅v_B    ⎪\n",
       "⎨a_S2x: 0, a_S2y: ────────────⎬\n",
       "⎪                         3   ⎪\n",
       "⎩                 25⋅R⋅sin (φ)⎭"
      ]
     },
     "metadata": {},
     "output_type": "display_data"
    }
   ],
   "source": [
    "# A feladat azonban a súlyponti mennyiségekre kíváncsi! Ehhez meg kell határozni a (2)-es test súlypontját,\n",
    "# ami nem triviális. A test áll egy `2m` tömegű korongból, valamint egy `m` tömegű rúdból. A súlypont a közös\n",
    "# szimmetriatengelyen fog elhelyezkedni, és a rúd, valamint a gömb súlypontja közötti szakaszt olyan arány-\n",
    "# ban osztja, mint ami a tömegek között fennáll. Ebből következik, hogy a közös súlypont a két lokális súly-\n",
    "# pontot összekötő egyenes, koronghoz közelebbi harmadolópontjánál helyezkedik el. Leolvasható, hogy ez pont\n",
    "# az összehegesztés pontjában található.\n",
    "\n",
    "aS2_x,aS2_y = sp.symbols('a_S2x,a_S2y')\n",
    "\n",
    "aS2_v = sp.Matrix([aS2_x,aS2_y,0])\n",
    "rBS2_v = sp.Matrix([l*sp.cos(φ),l*sp.sin(φ),0])\n",
    "\n",
    "# Sebességredukciós képlet:\n",
    "eq3 = sp.Eq(aS2_v,aB_v + ε2_v.cross(rBS2_v) - ω2**2*rBS2_v)\n",
    "display(eq3)\n",
    "sol3 = sp.solve(eq3.subs([(ω2,sol1[ω2]),(ε2,sol2[ε2])]),aS2_x,aS2_y)\n",
    "display(sol3)"
   ]
  },
  {
   "cell_type": "markdown",
   "metadata": {},
   "source": [
    "## 2. Feladat: szabadtest ábrák, és a dinamika alaptétele"
   ]
  },
  {
   "cell_type": "markdown",
   "metadata": {},
   "source": [
    "<img src=\"alk4_vizsgapelda_szta.png\" width=\"800\">\n",
    "\n"
   ]
  },
  {
   "cell_type": "code",
   "execution_count": 5,
   "metadata": {},
   "outputs": [
    {
     "data": {
      "image/png": "[encoded data removed]",
      "text/latex": [
       "$\\displaystyle 0 = B_{x} + S_{1}$"
      ],
      "text/plain": [
       "0 = Bₓ + S₁"
      ]
     },
     "metadata": {},
     "output_type": "display_data"
    },
    {
     "data": {
      "image/png": "[encoded data removed]",
      "text/latex": [
       "$\\displaystyle 0 = B_{y} + N_{1} - 2 g m$"
      ],
      "text/plain": [
       "0 = B_y + N₁ - 2⋅g⋅m"
      ]
     },
     "metadata": {},
     "output_type": "display_data"
    },
    {
     "data": {
      "image/png": "[encoded data removed]",
      "text/latex": [
       "$\\displaystyle 0 = - M + R S_{1}$"
      ],
      "text/plain": [
       "0 = -M + R⋅S₁"
      ]
     },
     "metadata": {},
     "output_type": "display_data"
    },
    {
     "data": {
      "text/plain": [
       "'---'"
      ]
     },
     "metadata": {},
     "output_type": "display_data"
    },
    {
     "data": {
      "image/png": "[encoded data removed]",
      "text/latex": [
       "$\\displaystyle 0 = - B_{x} - N_{2}$"
      ],
      "text/plain": [
       "0 = -Bₓ - N₂"
      ]
     },
     "metadata": {},
     "output_type": "display_data"
    },
    {
     "data": {
      "image/png": "[encoded data removed]",
      "text/latex": [
       "$\\displaystyle - \\frac{12 m v_{B}^{2}}{25 R \\sin^{3}{\\left(φ \\right)}} = - B_{y} - S_{2} - 3 g m$"
      ],
      "text/plain": [
       "         2                      \n",
       "-12⋅m⋅v_B                       \n",
       "──────────── = -B_y - S₂ - 3⋅g⋅m\n",
       "        3                       \n",
       "25⋅R⋅sin (φ)                    "
      ]
     },
     "metadata": {},
     "output_type": "display_data"
    },
    {
     "data": {
      "image/png": "[encoded data removed]",
      "text/latex": [
       "$\\displaystyle Θ_{S2} ε_{2} = - 4 B_{x} R \\sin{\\left(φ \\right)} + 4 B_{y} R \\cos{\\left(φ \\right)} + N_{2} R \\sin{\\left(φ \\right)} - S_{2} \\left(R \\cos{\\left(φ \\right)} + R\\right)$"
      ],
      "text/plain": [
       "Θ_S2⋅ε₂ = -4⋅Bₓ⋅R⋅sin(φ) + 4⋅B_y⋅R⋅cos(φ) + N₂⋅R⋅sin(φ) - S₂⋅(R⋅cos(φ) + R)"
      ]
     },
     "metadata": {},
     "output_type": "display_data"
    }
   ],
   "source": [
    "# (1)-es test: statika\n",
    "\n",
    "# Hozzunk létre szimbólumokat:\n",
    "S1,S2,N1,N2,Bx,By,ΘS2,m,g,M = sp.symbols('S_1,S_2,N_1,N_2,B_x,B_y,Θ_S2,m,g,M')\n",
    "# Az adatok alapján:\n",
    "m1 = 2*m\n",
    "\n",
    "# A 3 vetületi egyenletet\n",
    "eq_fx_1 = sp.Eq(0,S1+Bx) \n",
    "eq_fy_1 = sp.Eq(0,N1+By-m1*g)\n",
    "eq_Mb_1 = sp.Eq(0,-M+S1*R)\n",
    "\n",
    "# A másik testnek súlypontjának gyorsulása nem null vektor, így arra a dinamika alaptétele alapján:\n",
    "\n",
    "eq_fx_2 = sp.Eq(3*m*sol3[aS2_x],-Bx-N2) # aS2_x helyett használjuk a fentebb kifejezett formáját\n",
    "eq_fy_2 = sp.Eq(3*m*sol3[aS2_y],-By-S2-3*m*g) # aS2_y helyett használjuk a fentebb kifejezett formáját\n",
    "eq_MS2_2 = sp.Eq(ΘS2*ε2,-Bx*l*sp.sin(φ)+By*l*sp.cos(φ)+N2*R*sp.sin(φ)-S2*(R+R*sp.cos(φ)))\n",
    "\n",
    "display(eq_fx_1,eq_fy_1,eq_Mb_1,'---',eq_fx_2,eq_fy_2,eq_MS2_2)"
   ]
  },
  {
   "cell_type": "markdown",
   "metadata": {},
   "source": [
    "## 3. Feladat: az M nyomaték pillanatnyi értéke"
   ]
  },
  {
   "cell_type": "code",
   "execution_count": 6,
   "metadata": {},
   "outputs": [
    {
     "data": {
      "image/png": "[encoded data removed]",
      "text/latex": [
       "$\\displaystyle \\frac{25 R^{2} m}{3}$"
      ],
      "text/plain": [
       "    2  \n",
       "25⋅R ⋅m\n",
       "───────\n",
       "   3   "
      ]
     },
     "execution_count": 6,
     "metadata": {},
     "output_type": "execute_result"
    }
   ],
   "source": [
    "# Ahhoz, hogy megkapjuk `M`-met, először meg kell határozni a `ΘS2` tehetetlenségi nyomatékot.\n",
    "# Ennek kiszámítása Steiner tétellel lehetséges, mely során a rúd, és a korong tehetetlenségi \n",
    "# nyomatékát kell kiszámolni a saját  súlyponti tengelyükre, majd külön-külön átszámolni őket a \n",
    "# közös súlyponti (z) tengelyre, végül összegezni.\n",
    "\n",
    "ΘSrud = sp.Rational(1,12)*m*l**2 # Azért nem simán `1/12`, hogy megőrizzük törtként: `sp.Rational(1,12)` -> 1/12\n",
    "ΘSkorong = sp.Rational(1,2)*(2*m)*R**2\n",
    "\n",
    "# Steiner tagok:\n",
    "ΘS2rud = ΘSrud + m*(l/2)**2 # Mindig a saját súlyponton átmenő tengelyre a legkisebb, így itt hozzá kell adni!\n",
    "ΘS2korong = ΘSkorong + (2*m)*R**2\n",
    "\n",
    "# Egy kis tanulság debuggoláshoz: ez -> `θ` és ez -> `Θ` nem ugyan az.. Az egyik kis theta, a másik nagy :)\n",
    "# Θ -> \\Theta + tab ; θ -> \\theta + tab\n",
    "\n",
    "# Mivel már egy tengelyre vannak számolva, így összegezhetőek:\n",
    "ΘS2_kif= ΘS2rud + ΘS2korong\n",
    "ΘS2_kif"
   ]
  },
  {
   "cell_type": "code",
   "execution_count": 7,
   "metadata": {},
   "outputs": [],
   "source": [
    "# A a fenti egyenletrendszer 6 független egyenletből áll, de 7 ismeretlent tartalmaz. Kiegészítésnek\n",
    "# a Coulomb súrlódást felhasználva:\n",
    "μ = sp.Symbol('μ')\n",
    "# S2 = μ*N2 , de írjuk fel inkább egyből sympy egyenletként\n",
    "eqCoulomb = sp.Eq(S2,μ*N2)\n",
    "\n",
    "# Kézi számítás során itt kezdődne a számolás java, de szerencsére most pythont használunk\n",
    "\n",
    "# A keresett változókban lineáris az egyenletrendszer, így a megoldása relatíve gyors\n",
    "sol = sp.solve([eq_fx_1,eq_fy_1,eq_Mb_1,eq_fx_2,eq_fy_2,eq_MS2_2,eqCoulomb],[M,S1,S2,N1,N2,Bx,By])"
   ]
  },
  {
   "cell_type": "code",
   "execution_count": 8,
   "metadata": {},
   "outputs": [
    {
     "data": {
      "image/png": "[encoded data removed]",
      "text/latex": [
       "$\\displaystyle \\frac{- 12 R g m \\cos{\\left(φ \\right)} + \\frac{169 m v_{B}^{2} \\cos{\\left(φ \\right)}}{75 \\sin^{3}{\\left(φ \\right)}}}{5 μ \\cos{\\left(φ \\right)} + μ - 5 \\sin{\\left(φ \\right)}}$"
      ],
      "text/plain": [
       "                            2       \n",
       "                   169⋅m⋅v_B ⋅cos(φ)\n",
       "-12⋅R⋅g⋅m⋅cos(φ) + ─────────────────\n",
       "                             3      \n",
       "                       75⋅sin (φ)   \n",
       "────────────────────────────────────\n",
       "     5⋅μ⋅cos(φ) + μ - 5⋅sin(φ)      "
      ]
     },
     "metadata": {},
     "output_type": "display_data"
    }
   ],
   "source": [
    "# Megkaptuk tehát a nyomatékot, kifejezve az adatokkal\n",
    "M_sol = sol[M]\n",
    "# Helyettesítsük be `ε2` és `ΘS2` helyére az adatokkal kifejezett verziójukat\n",
    "M_sol = M_sol.subs([(ε2,sol2[ε2]),(ΘS2,ΘS2_kif)])\n",
    "display(M_sol)"
   ]
  },
  {
   "cell_type": "code",
   "execution_count": 9,
   "metadata": {},
   "outputs": [
    {
     "data": {
      "image/png": "[encoded data removed]",
      "text/latex": [
       "$\\displaystyle 44.504$"
      ],
      "text/plain": [
       "44.504"
      ]
     },
     "execution_count": 9,
     "metadata": {},
     "output_type": "execute_result"
    }
   ],
   "source": [
    "# Vegyünk fel egy behelyettesítési listát is az adatokból:\n",
    "adatok = ([(m,3),(R,0.3),(vB,0.3),(φ,30*sp.pi/180),(μ,0.1),(g,9.81)]) # A szög radiánban kell!\n",
    "M_num = M_sol.subs(adatok).evalf(5) # Nm\n",
    "M_num"
   ]
  },
  {
   "cell_type": "code",
   "execution_count": 10,
   "metadata": {},
   "outputs": [
    {
     "data": {
      "image/png": "[encoded data removed]",
      "text/latex": [
       "$\\displaystyle \\text{True}$"
      ],
      "text/plain": [
       "True"
      ]
     },
     "execution_count": 10,
     "metadata": {},
     "output_type": "execute_result"
    }
   ],
   "source": [
    "# Vizsgáljuk meg, hogy a (1)-es test tapad-e:\n",
    "(sol[S1]/sol[N1]).subs([(ε2,sol2[ε2]),(ΘS2,ΘS2_kif)]).subs(adatok).evalf() < 1   # kisebb-e mint 1?"
   ]
  },
  {
   "cell_type": "code",
   "execution_count": 11,
   "metadata": {},
   "outputs": [],
   "source": [
    "# Így tehát gördül az (1)-es korong."
   ]
  },
  {
   "cell_type": "markdown",
   "metadata": {},
   "source": [
    "## 4. Feladat: az M nyomaték munkavégzése"
   ]
  },
  {
   "cell_type": "code",
   "execution_count": 12,
   "metadata": {},
   "outputs": [
    {
     "data": {
      "text/latex": [
       "$\\displaystyle \\left[\\begin{matrix}\\frac{v_{B}}{5}\\\\\\frac{4 v_{B} \\cos{\\left(φ \\right)}}{5 \\sin{\\left(φ \\right)}}\\\\0\\end{matrix}\\right]$"
      ],
      "text/plain": [
       "⎡    v_B     ⎤\n",
       "⎢    ───     ⎥\n",
       "⎢     5      ⎥\n",
       "⎢            ⎥\n",
       "⎢4⋅v_B⋅cos(φ)⎥\n",
       "⎢────────────⎥\n",
       "⎢  5⋅sin(φ)  ⎥\n",
       "⎢            ⎥\n",
       "⎣     0      ⎦"
      ]
     },
     "metadata": {},
     "output_type": "display_data"
    },
    {
     "data": {
      "image/png": "[encoded data removed]",
      "text/latex": [
       "$\\displaystyle \\left[\\begin{matrix}0.06\\\\0.41569\\\\0\\end{matrix}\\right]$"
      ],
      "text/plain": [
       "⎡ 0.06  ⎤\n",
       "⎢       ⎥\n",
       "⎢0.41569⎥\n",
       "⎢       ⎥\n",
       "⎣   0   ⎦"
      ]
     },
     "execution_count": 12,
     "metadata": {},
     "output_type": "execute_result"
    }
   ],
   "source": [
    "# A munkatételt felhasználva\n",
    "# T2-T1 = W12\n",
    "# Ehhez szükség van a (2)-es test súlypontjának sebességére:\n",
    "vS2 = vB_v + ω2_v.cross(rBS2_v)\n",
    "vS2_dat = vS2.subs(ω2,sol1[ω2]) # ω2-t már korábban kifejeztük\n",
    "display(vS2_dat)\n",
    "vS2_num = vS2_dat.subs(adatok).evalf(5)\n",
    "vS2_num # m/s"
   ]
  },
  {
   "cell_type": "code",
   "execution_count": 13,
   "metadata": {},
   "outputs": [
    {
     "data": {
      "image/png": "[encoded data removed]",
      "text/latex": [
       "$\\displaystyle \\frac{3 m v_{B}^{2}}{2} + \\frac{m v_{B}^{2}}{6 \\sin^{2}{\\left(φ \\right)}} + \\frac{3 m \\left(\\frac{v_{B}^{2}}{25} + \\frac{16 v_{B}^{2} \\cos^{2}{\\left(φ \\right)}}{25 \\sin^{2}{\\left(φ \\right)}}\\right)}{2}$"
      ],
      "text/plain": [
       "                           ⎛   2         2    2   ⎞\n",
       "                           ⎜v_B    16⋅v_B ⋅cos (φ)⎟\n",
       "                       3⋅m⋅⎜──── + ───────────────⎟\n",
       "       2          2        ⎜ 25             2     ⎟\n",
       "3⋅m⋅v_B      m⋅v_B         ⎝          25⋅sin (φ)  ⎠\n",
       "──────── + ───────── + ────────────────────────────\n",
       "   2            2                   2              \n",
       "           6⋅sin (φ)                               "
      ]
     },
     "metadata": {},
     "output_type": "display_data"
    },
    {
     "data": {
      "image/png": "[encoded data removed]",
      "text/latex": [
       "$\\displaystyle 1.3788$"
      ],
      "text/plain": [
       "1.37880000000000"
      ]
     },
     "execution_count": 13,
     "metadata": {},
     "output_type": "execute_result"
    }
   ],
   "source": [
    "# Az összes kinetikus energia felírásához szükséges még `ΘA`:\n",
    "ΘA = sp.Rational(3,2)*m1*R**2\n",
    "\n",
    "T1 = sp.Rational(1,2)*ΘA*ω1**2+sp.Rational(3,2)*m*vS2_dat.dot(vS2_dat)+sp.Rational(1,2)*ΘS2_kif*sol1[ω2]**2\n",
    "display(T1)\n",
    "# Vektor négyzete: önmagával vett skaláris szorzata. Angolul dot product.\n",
    "T1.subs(adatok) # J"
   ]
  },
  {
   "cell_type": "code",
   "execution_count": 14,
   "metadata": {},
   "outputs": [
    {
     "data": {
      "image/png": "[encoded data removed]",
      "text/latex": [
       "$\\displaystyle \\frac{197 m v_{B}^{2}}{75}$"
      ],
      "text/plain": [
       "         2\n",
       "197⋅m⋅v_B \n",
       "──────────\n",
       "    75    "
      ]
     },
     "metadata": {},
     "output_type": "display_data"
    },
    {
     "data": {
      "image/png": "[encoded data removed]",
      "text/latex": [
       "$\\displaystyle 0.7092$"
      ],
      "text/plain": [
       "0.709200000000000"
      ]
     },
     "execution_count": 14,
     "metadata": {},
     "output_type": "execute_result"
    }
   ],
   "source": [
    "# Nézzük a kinetikus energiát a függőleges állapotban!\n",
    "# Ekkor természetesen a testek sebességállapota változik. Függőleges állapotban a C pont épp a \n",
    "# (2)-es test sebességpólusa lesz, ezért\n",
    "ω2_függ = vB/(l+R)\n",
    "vS2_függ = l*ω2_függ\n",
    "\n",
    "T2 = sp.Rational(1,2)*ΘA*ω1**2+sp.Rational(3,2)*m*vS2_függ**2+sp.Rational(1,2)*ΘS2_kif*ω2_függ**2\n",
    "display(T2)\n",
    "T2.subs(adatok).evalf() # J"
   ]
  },
  {
   "cell_type": "code",
   "execution_count": 15,
   "metadata": {},
   "outputs": [
    {
     "data": {
      "image/png": "[encoded data removed]",
      "text/latex": [
       "$\\displaystyle 52.3044$"
      ],
      "text/plain": [
       "52.3044000000000"
      ]
     },
     "execution_count": 15,
     "metadata": {},
     "output_type": "execute_result"
    }
   ],
   "source": [
    "# A nyomatéknak a gravitációs erő ellenében kell dolgoznia (a gravitációs erő is munkát végez), így\n",
    "WM01 = T2 - T1 + 3*m*g*(l - l*sp.sin(φ))\n",
    "WM01.subs(adatok) # J"
   ]
  }
 ],
 "metadata": {
  "kernelspec": {
   "display_name": "Python 3",
   "language": "python",
   "name": "python3"
  },
  "language_info": {
   "codemirror_mode": {
    "name": "ipython",
    "version": 3
   },
   "file_extension": ".py",
   "mimetype": "text/x-python",
   "name": "python",
   "nbconvert_exporter": "python",
   "pygments_lexer": "ipython3",
   "version": "3.7.4"
  }
 },
 "nbformat": 4,
 "nbformat_minor": 2
}
